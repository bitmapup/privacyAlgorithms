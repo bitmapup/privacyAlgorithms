{
 "cells": [
  {
   "cell_type": "code",
   "execution_count": 176,
   "metadata": {},
   "outputs": [],
   "source": [
    "# https://www.kaggle.com/lavanyashukla01/how-i-made-top-0-3-on-a-kaggle-competition\n",
    "# Essentials\n",
    "import pandas as pd\n",
    "import numpy as np\n",
    "import time\n",
    "import sys\n",
    "import math\n",
    "\n",
    "# Plots\n",
    "import seaborn as sns\n",
    "import matplotlib.pyplot as plt\n",
    "\n",
    "# Stats\n",
    "from scipy.stats import skew, norm\n",
    "from scipy.special import boxcox1p\n",
    "from scipy.stats import boxcox_normmax\n",
    "\n",
    "# Metrics\n",
    "from sklearn.model_selection import GridSearchCV, RandomizedSearchCV\n",
    "from sklearn.model_selection import KFold, cross_val_score\n",
    "from sklearn.preprocessing import OneHotEncoder\n",
    "from sklearn.preprocessing import LabelEncoder\n",
    "from sklearn.pipeline import Pipeline\n",
    "from sklearn.preprocessing import StandardScaler\n",
    "from sklearn.preprocessing import RobustScaler\n",
    "\n",
    "# Models\n",
    "from sklearn.preprocessing import LabelEncoder\n",
    "from scipy.stats import pearsonr\n",
    "from sklearn.ensemble import RandomForestClassifier, GradientBoostingClassifier\n",
    "from sklearn.tree import DecisionTreeClassifier\n",
    "from mlxtend.classifier import StackingClassifier\n",
    "from sklearn.model_selection import train_test_split\n",
    "\n",
    "# Ignorar ciertos warnings\n",
    "import warnings\n",
    "warnings.filterwarnings(action=\"ignore\")\n",
    "pd.options.display.max_seq_items = 8000\n",
    "pd.options.display.max_rows = 8000\n",
    "\n",
    "\n",
    "from xgboost import XGBClassifier\n",
    "from sklearn.svm import SVC\n",
    "\n",
    "from sklearn import decomposition, datasets\n",
    "from sklearn import tree\n",
    "from sklearn.pipeline import Pipeline\n",
    "from sklearn.model_selection import GridSearchCV\n",
    "from sklearn.preprocessing import StandardScaler\n",
    "\n",
    "import math\n",
    "from scipy.spatial import distance\n",
    "from scipy.stats import ks_2samp\n",
    "from scipy import spatial"
   ]
  },
  {
   "cell_type": "code",
   "execution_count": 177,
   "metadata": {},
   "outputs": [
    {
     "data": {
      "text/plain": [
       "'0.22.1'"
      ]
     },
     "execution_count": 177,
     "metadata": {},
     "output_type": "execute_result"
    }
   ],
   "source": [
    "import sklearn\n",
    "sklearn.__version__"
   ]
  },
  {
   "cell_type": "markdown",
   "metadata": {},
   "source": [
    "# Tarea de Minería"
   ]
  },
  {
   "cell_type": "markdown",
   "metadata": {},
   "source": [
    "## Importing Data"
   ]
  },
  {
   "cell_type": "code",
   "execution_count": 178,
   "metadata": {},
   "outputs": [
    {
     "data": {
      "text/html": [
       "<div>\n",
       "<style scoped>\n",
       "    .dataframe tbody tr th:only-of-type {\n",
       "        vertical-align: middle;\n",
       "    }\n",
       "\n",
       "    .dataframe tbody tr th {\n",
       "        vertical-align: top;\n",
       "    }\n",
       "\n",
       "    .dataframe thead th {\n",
       "        text-align: right;\n",
       "    }\n",
       "</style>\n",
       "<table border=\"1\" class=\"dataframe\">\n",
       "  <thead>\n",
       "    <tr style=\"text-align: right;\">\n",
       "      <th></th>\n",
       "      <th>LONGI</th>\n",
       "      <th>LATIT</th>\n",
       "      <th>Salinidad</th>\n",
       "      <th>TC</th>\n",
       "      <th>Clorofila</th>\n",
       "      <th>TSM</th>\n",
       "      <th>Captura</th>\n",
       "    </tr>\n",
       "  </thead>\n",
       "  <tbody>\n",
       "    <tr>\n",
       "      <th>0</th>\n",
       "      <td>-78.12</td>\n",
       "      <td>-11.17</td>\n",
       "      <td>35.06</td>\n",
       "      <td>63</td>\n",
       "      <td>0.569</td>\n",
       "      <td>19.1</td>\n",
       "      <td>100</td>\n",
       "    </tr>\n",
       "    <tr>\n",
       "      <th>1</th>\n",
       "      <td>-78.18</td>\n",
       "      <td>-11.23</td>\n",
       "      <td>35.06</td>\n",
       "      <td>64</td>\n",
       "      <td>0.495</td>\n",
       "      <td>19.2</td>\n",
       "      <td>60</td>\n",
       "    </tr>\n",
       "    <tr>\n",
       "      <th>2</th>\n",
       "      <td>-78.38</td>\n",
       "      <td>-10.70</td>\n",
       "      <td>35.07</td>\n",
       "      <td>65</td>\n",
       "      <td>16.218</td>\n",
       "      <td>19.4</td>\n",
       "      <td>80</td>\n",
       "    </tr>\n",
       "  </tbody>\n",
       "</table>\n",
       "</div>"
      ],
      "text/plain": [
       "   LONGI  LATIT  Salinidad  TC  Clorofila   TSM  Captura\n",
       "0 -78.12 -11.17      35.06  63      0.569  19.1      100\n",
       "1 -78.18 -11.23      35.06  64      0.495  19.2       60\n",
       "2 -78.38 -10.70      35.07  65     16.218  19.4       80"
      ]
     },
     "execution_count": 178,
     "metadata": {},
     "output_type": "execute_result"
    }
   ],
   "source": [
    "# Data para entrenar el algoritmo de regresión\n",
    "dataPesca = pd.read_csv(\"calaPesca.csv\", sep=\";\")\n",
    "\n",
    "dataPesca = dataPesca[[\"LONGI\",\"LATIT\",\"Salinidad\",\"TC\",\"Clorofila (mg/m3)\",\"TSM (ºC)\",\"Captura\"]] #filtra solo lo que es igual al data frame \"df\"\n",
    "\n",
    "dataPesca.columns = [\"LONGI\",\"LATIT\",\"Salinidad\",\"TC\", \"Clorofila\",\"TSM\",\"Captura\" ]\n",
    "dataPesca.head(3)"
   ]
  },
  {
   "cell_type": "code",
   "execution_count": 179,
   "metadata": {
    "scrolled": true
   },
   "outputs": [],
   "source": [
    "# Bucketización de la variable continua de pesca\n",
    "dataPesca[\"CapturaBucketized\"] = 999\n",
    "dataPesca.loc[dataPesca.Captura <= 100, \"CapturaBucketized\"] = 1\n",
    "dataPesca.loc[dataPesca.Captura > 100, \"CapturaBucketized\"] = 0"
   ]
  },
  {
   "cell_type": "code",
   "execution_count": 180,
   "metadata": {},
   "outputs": [
    {
     "data": {
      "text/plain": [
       "1    6899\n",
       "0    2630\n",
       "Name: CapturaBucketized, dtype: int64"
      ]
     },
     "execution_count": 180,
     "metadata": {},
     "output_type": "execute_result"
    }
   ],
   "source": [
    "dataPesca.CapturaBucketized.value_counts()"
   ]
  },
  {
   "cell_type": "code",
   "execution_count": 181,
   "metadata": {},
   "outputs": [],
   "source": [
    "# Elimina outliers\n",
    "dataPesca.drop(dataPesca[dataPesca['LONGI']>-40].index, inplace=True)\n",
    "dataPesca.drop(dataPesca[dataPesca['TC']>85].index, inplace=True)\n",
    "dataPesca.dropna(inplace=True)"
   ]
  },
  {
   "cell_type": "markdown",
   "metadata": {},
   "source": [
    "## Modelamiento"
   ]
  },
  {
   "cell_type": "code",
   "execution_count": 182,
   "metadata": {},
   "outputs": [],
   "source": [
    "#dataPesca = dataPesca.drop(\"CapturaBucketized\", axis=1)\n",
    "\n",
    "# Sacamos independientes y dependiente\n",
    "Y = dataPesca[\"CapturaBucketized\"]\n",
    "X = dataPesca.drop(\"CapturaBucketized\", axis=1)\n",
    "X = X[['Salinidad', \"TC\", \"Clorofila\", \"TSM\"]]\n",
    "\n",
    "# Dividimos en train, test en un 70 - 30\n",
    "X_train, X_test, Y_train, Y_test = train_test_split(X,Y, test_size = 0.3, random_state=42)"
   ]
  },
  {
   "cell_type": "code",
   "execution_count": 183,
   "metadata": {
    "scrolled": true
   },
   "outputs": [
    {
     "data": {
      "text/html": [
       "<div>\n",
       "<style scoped>\n",
       "    .dataframe tbody tr th:only-of-type {\n",
       "        vertical-align: middle;\n",
       "    }\n",
       "\n",
       "    .dataframe tbody tr th {\n",
       "        vertical-align: top;\n",
       "    }\n",
       "\n",
       "    .dataframe thead th {\n",
       "        text-align: right;\n",
       "    }\n",
       "</style>\n",
       "<table border=\"1\" class=\"dataframe\">\n",
       "  <thead>\n",
       "    <tr style=\"text-align: right;\">\n",
       "      <th></th>\n",
       "      <th>Salinidad</th>\n",
       "      <th>TC</th>\n",
       "      <th>Clorofila</th>\n",
       "      <th>TSM</th>\n",
       "    </tr>\n",
       "  </thead>\n",
       "  <tbody>\n",
       "    <tr>\n",
       "      <th>count</th>\n",
       "      <td>9527.000000</td>\n",
       "      <td>9527.000000</td>\n",
       "      <td>9527.000000</td>\n",
       "      <td>9527.000000</td>\n",
       "    </tr>\n",
       "    <tr>\n",
       "      <th>mean</th>\n",
       "      <td>33.823038</td>\n",
       "      <td>57.971450</td>\n",
       "      <td>3.125849</td>\n",
       "      <td>17.854298</td>\n",
       "    </tr>\n",
       "    <tr>\n",
       "      <th>std</th>\n",
       "      <td>6.477817</td>\n",
       "      <td>15.811708</td>\n",
       "      <td>5.040272</td>\n",
       "      <td>3.676209</td>\n",
       "    </tr>\n",
       "    <tr>\n",
       "      <th>min</th>\n",
       "      <td>0.000000</td>\n",
       "      <td>0.000000</td>\n",
       "      <td>0.000000</td>\n",
       "      <td>0.000000</td>\n",
       "    </tr>\n",
       "    <tr>\n",
       "      <th>25%</th>\n",
       "      <td>35.010000</td>\n",
       "      <td>51.000000</td>\n",
       "      <td>0.275000</td>\n",
       "      <td>17.300000</td>\n",
       "    </tr>\n",
       "    <tr>\n",
       "      <th>50%</th>\n",
       "      <td>35.060000</td>\n",
       "      <td>61.000000</td>\n",
       "      <td>1.396000</td>\n",
       "      <td>18.400000</td>\n",
       "    </tr>\n",
       "    <tr>\n",
       "      <th>75%</th>\n",
       "      <td>35.110000</td>\n",
       "      <td>69.000000</td>\n",
       "      <td>3.802000</td>\n",
       "      <td>19.500000</td>\n",
       "    </tr>\n",
       "    <tr>\n",
       "      <th>max</th>\n",
       "      <td>35.380000</td>\n",
       "      <td>75.000000</td>\n",
       "      <td>56.234000</td>\n",
       "      <td>23.900000</td>\n",
       "    </tr>\n",
       "  </tbody>\n",
       "</table>\n",
       "</div>"
      ],
      "text/plain": [
       "         Salinidad           TC    Clorofila          TSM\n",
       "count  9527.000000  9527.000000  9527.000000  9527.000000\n",
       "mean     33.823038    57.971450     3.125849    17.854298\n",
       "std       6.477817    15.811708     5.040272     3.676209\n",
       "min       0.000000     0.000000     0.000000     0.000000\n",
       "25%      35.010000    51.000000     0.275000    17.300000\n",
       "50%      35.060000    61.000000     1.396000    18.400000\n",
       "75%      35.110000    69.000000     3.802000    19.500000\n",
       "max      35.380000    75.000000    56.234000    23.900000"
      ]
     },
     "execution_count": 183,
     "metadata": {},
     "output_type": "execute_result"
    }
   ],
   "source": [
    "X.describe()"
   ]
  },
  {
   "cell_type": "code",
   "execution_count": 184,
   "metadata": {},
   "outputs": [],
   "source": [
    "def cv_acc(model, X=X_train, kf = 3):\n",
    "    acc = np.sqrt(-cross_val_score(model, X_train, y_train_enc, scoring=\"accuracy\", cv=kf))\n",
    "    return (acc)"
   ]
  },
  {
   "cell_type": "code",
   "execution_count": 185,
   "metadata": {},
   "outputs": [],
   "source": [
    "kf = KFold(n_splits=3, shuffle=True)"
   ]
  },
  {
   "cell_type": "code",
   "execution_count": 186,
   "metadata": {},
   "outputs": [],
   "source": [
    "std_slc = StandardScaler()\n",
    "pca = decomposition.PCA()\n",
    "dec_tree = tree.DecisionTreeClassifier()"
   ]
  },
  {
   "cell_type": "code",
   "execution_count": 187,
   "metadata": {},
   "outputs": [
    {
     "data": {
      "text/plain": [
       "DecisionTreeClassifier(ccp_alpha=0.0, class_weight=None, criterion='gini',\n",
       "                       max_depth=None, max_features=None, max_leaf_nodes=None,\n",
       "                       min_impurity_decrease=0.0, min_impurity_split=None,\n",
       "                       min_samples_leaf=1, min_samples_split=2,\n",
       "                       min_weight_fraction_leaf=0.0, presort='deprecated',\n",
       "                       random_state=None, splitter='best')"
      ]
     },
     "execution_count": 187,
     "metadata": {},
     "output_type": "execute_result"
    }
   ],
   "source": [
    "dec_tree"
   ]
  },
  {
   "cell_type": "markdown",
   "metadata": {},
   "source": [
    "### Tuneo de hiperparámetros"
   ]
  },
  {
   "cell_type": "code",
   "execution_count": 188,
   "metadata": {},
   "outputs": [],
   "source": [
    "pipe = Pipeline(steps=[('std_slc', std_slc),\n",
    "                       ('dec_tree', dec_tree)])\n",
    "\n",
    "#n_components = list(range(1,X_train.shape[1]+1,1))"
   ]
  },
  {
   "cell_type": "code",
   "execution_count": 189,
   "metadata": {},
   "outputs": [],
   "source": [
    "params = {}#dict(pca__n_components=n_components)"
   ]
  },
  {
   "cell_type": "code",
   "execution_count": 190,
   "metadata": {},
   "outputs": [],
   "source": [
    "params['dec_tree__criterion'] = ['gini', 'entropy']\n",
    "params['dec_tree__splitter'] = ['best','random']\n",
    "params['dec_tree__min_samples_split'] = [0.01, 0.05, 0.1, 0.15, 0.16, 0.18, 0.2]\n",
    "params[\"dec_tree__max_features\"] = [\"auto\", \"sqrt\", \"log2\"] \n",
    "params['dec_tree__max_depth'] = [2,4,6,8,9,10,11,12,20,30,40,50]"
   ]
  },
  {
   "cell_type": "code",
   "execution_count": 191,
   "metadata": {},
   "outputs": [
    {
     "data": {
      "text/plain": [
       "{'dec_tree__criterion': ['gini', 'entropy'],\n",
       " 'dec_tree__splitter': ['best', 'random'],\n",
       " 'dec_tree__min_samples_split': [0.01, 0.05, 0.1, 0.15, 0.16, 0.18, 0.2],\n",
       " 'dec_tree__max_features': ['auto', 'sqrt', 'log2'],\n",
       " 'dec_tree__max_depth': [2, 4, 6, 8, 9, 10, 11, 12, 20, 30, 40, 50]}"
      ]
     },
     "execution_count": 191,
     "metadata": {},
     "output_type": "execute_result"
    }
   ],
   "source": [
    "params"
   ]
  },
  {
   "cell_type": "code",
   "execution_count": 192,
   "metadata": {
    "scrolled": true
   },
   "outputs": [
    {
     "data": {
      "text/plain": [
       "{'dec_tree__criterion': 'entropy',\n",
       " 'dec_tree__max_depth': 20,\n",
       " 'dec_tree__max_features': 'auto',\n",
       " 'dec_tree__min_samples_split': 0.05,\n",
       " 'dec_tree__splitter': 'random'}"
      ]
     },
     "execution_count": 192,
     "metadata": {},
     "output_type": "execute_result"
    }
   ],
   "source": [
    "decisionTree = GridSearchCV(pipe, param_grid = params, cv = kf, scoring='accuracy') \n",
    "decisionTree.fit(X_train, Y_train)\n",
    "decisionTree.best_params_"
   ]
  },
  {
   "cell_type": "code",
   "execution_count": 193,
   "metadata": {},
   "outputs": [
    {
     "data": {
      "text/plain": [
       "0.7215090604876951"
      ]
     },
     "execution_count": 193,
     "metadata": {},
     "output_type": "execute_result"
    }
   ],
   "source": [
    "decisionTree.best_score_"
   ]
  },
  {
   "cell_type": "markdown",
   "metadata": {},
   "source": [
    "### Set up the models"
   ]
  },
  {
   "cell_type": "code",
   "execution_count": 194,
   "metadata": {},
   "outputs": [],
   "source": [
    "std_slc = StandardScaler()\n",
    "dec_tree = tree.DecisionTreeClassifier(criterion='gini',max_depth=11, max_features = 'auto', min_samples_split = 0.01, splitter = 'random')"
   ]
  },
  {
   "cell_type": "code",
   "execution_count": 195,
   "metadata": {},
   "outputs": [],
   "source": [
    "pipe = Pipeline(steps=[('std_slc', std_slc),\n",
    "                       ('dec_tree', dec_tree)])"
   ]
  },
  {
   "cell_type": "code",
   "execution_count": 196,
   "metadata": {},
   "outputs": [
    {
     "data": {
      "text/plain": [
       "Pipeline(memory=None,\n",
       "         steps=[('std_slc',\n",
       "                 StandardScaler(copy=True, with_mean=True, with_std=True)),\n",
       "                ('dec_tree',\n",
       "                 DecisionTreeClassifier(ccp_alpha=0.0, class_weight=None,\n",
       "                                        criterion='gini', max_depth=11,\n",
       "                                        max_features='auto',\n",
       "                                        max_leaf_nodes=None,\n",
       "                                        min_impurity_decrease=0.0,\n",
       "                                        min_impurity_split=None,\n",
       "                                        min_samples_leaf=1,\n",
       "                                        min_samples_split=0.01,\n",
       "                                        min_weight_fraction_leaf=0.0,\n",
       "                                        presort='deprecated', random_state=None,\n",
       "                                        splitter='random'))],\n",
       "         verbose=False)"
      ]
     },
     "execution_count": 196,
     "metadata": {},
     "output_type": "execute_result"
    }
   ],
   "source": [
    "pipe.fit(X_train, Y_train)"
   ]
  },
  {
   "cell_type": "markdown",
   "metadata": {},
   "source": [
    "### Verifica los resultados del CV"
   ]
  },
  {
   "cell_type": "code",
   "execution_count": 197,
   "metadata": {},
   "outputs": [
    {
     "data": {
      "text/plain": [
       "0.7315536892621476"
      ]
     },
     "execution_count": 197,
     "metadata": {},
     "output_type": "execute_result"
    }
   ],
   "source": [
    "from sklearn.metrics import accuracy_score\n",
    "prd = pipe.predict(X_train)\n",
    "accuracy_score(Y_train, prd)"
   ]
  },
  {
   "cell_type": "code",
   "execution_count": 198,
   "metadata": {},
   "outputs": [
    {
     "data": {
      "text/plain": [
       "0.7282266526757608"
      ]
     },
     "execution_count": 198,
     "metadata": {},
     "output_type": "execute_result"
    }
   ],
   "source": [
    "prd_test = pipe.predict(X_test)\n",
    "accuracy_score(Y_test, prd_test)"
   ]
  },
  {
   "cell_type": "code",
   "execution_count": null,
   "metadata": {},
   "outputs": [],
   "source": []
  },
  {
   "cell_type": "markdown",
   "metadata": {},
   "source": [
    "1    6898\n",
    "0    2629"
   ]
  },
  {
   "cell_type": "code",
   "execution_count": 199,
   "metadata": {},
   "outputs": [],
   "source": [
    "X_standarized = std_slc.transform(X)"
   ]
  },
  {
   "cell_type": "code",
   "execution_count": 200,
   "metadata": {},
   "outputs": [
    {
     "data": {
      "text/plain": [
       "1    6898\n",
       "0    2629\n",
       "Name: CapturaBucketized, dtype: int64"
      ]
     },
     "execution_count": 200,
     "metadata": {},
     "output_type": "execute_result"
    }
   ],
   "source": [
    "Y.value_counts()"
   ]
  },
  {
   "cell_type": "code",
   "execution_count": 201,
   "metadata": {},
   "outputs": [
    {
     "data": {
      "text/plain": [
       "array([[ 0.19101261,  0.31821189, -0.50654666,  0.33907689],\n",
       "       [ 0.19101261,  0.3816374 , -0.52113881,  0.36625096],\n",
       "       [ 0.192556  ,  0.44506291,  2.57929858,  0.42059912],\n",
       "       ...,\n",
       "       [ 0.19718618,  0.50848841,  1.8924816 ,  0.06733612],\n",
       "       [ 0.18483903,  0.88904145, -0.48071461,  0.04016205],\n",
       "       [ 0.19718618,  0.50848841,  1.8924816 ,  0.06733612]])"
      ]
     },
     "execution_count": 201,
     "metadata": {},
     "output_type": "execute_result"
    }
   ],
   "source": [
    "one_distribution = X_standarized[Y[Y == 1].index]\n",
    "one_distribution"
   ]
  },
  {
   "cell_type": "code",
   "execution_count": 202,
   "metadata": {},
   "outputs": [
    {
     "name": "stdout",
     "output_type": "stream",
     "text": [
      "[[ 0.19409939  0.3816374   0.30351483  0.36625096]\n",
      " [ 0.19564279  0.3816374   0.9840217   0.39342504]\n",
      " [ 0.19564279  0.3816374   0.9840217   0.39342504]\n",
      " ...\n",
      " [ 0.20027297  0.95246696  1.8924816   0.71951396]\n",
      " [ 0.20181637  0.95246696  2.69169757  0.6651658 ]\n",
      " [ 0.20644655  1.01589247 -0.55860514  0.93690657]]\n"
     ]
    }
   ],
   "source": [
    "zero_distribution = X_standarized[Y[Y == 0].index[:-1]]\n",
    "print(zero_distribution)\n"
   ]
  },
  {
   "cell_type": "code",
   "execution_count": 203,
   "metadata": {},
   "outputs": [
    {
     "data": {
      "text/html": [
       "<div>\n",
       "<style scoped>\n",
       "    .dataframe tbody tr th:only-of-type {\n",
       "        vertical-align: middle;\n",
       "    }\n",
       "\n",
       "    .dataframe tbody tr th {\n",
       "        vertical-align: top;\n",
       "    }\n",
       "\n",
       "    .dataframe thead th {\n",
       "        text-align: right;\n",
       "    }\n",
       "</style>\n",
       "<table border=\"1\" class=\"dataframe\">\n",
       "  <thead>\n",
       "    <tr style=\"text-align: right;\">\n",
       "      <th></th>\n",
       "      <th>Salinidad</th>\n",
       "      <th>TC</th>\n",
       "      <th>Clorofila</th>\n",
       "      <th>TSM</th>\n",
       "    </tr>\n",
       "  </thead>\n",
       "  <tbody>\n",
       "    <tr>\n",
       "      <th>count</th>\n",
       "      <td>6898.000000</td>\n",
       "      <td>6898.000000</td>\n",
       "      <td>6898.000000</td>\n",
       "      <td>6898.000000</td>\n",
       "    </tr>\n",
       "    <tr>\n",
       "      <th>mean</th>\n",
       "      <td>-0.040169</td>\n",
       "      <td>-0.096785</td>\n",
       "      <td>-0.014185</td>\n",
       "      <td>-0.043937</td>\n",
       "    </tr>\n",
       "    <tr>\n",
       "      <th>std</th>\n",
       "      <td>1.095034</td>\n",
       "      <td>1.052992</td>\n",
       "      <td>0.980216</td>\n",
       "      <td>1.081239</td>\n",
       "    </tr>\n",
       "    <tr>\n",
       "      <th>min</th>\n",
       "      <td>-5.220127</td>\n",
       "      <td>-3.677595</td>\n",
       "      <td>-0.618748</td>\n",
       "      <td>-4.851172</td>\n",
       "    </tr>\n",
       "    <tr>\n",
       "      <th>25%</th>\n",
       "      <td>0.181752</td>\n",
       "      <td>-0.506320</td>\n",
       "      <td>-0.618748</td>\n",
       "      <td>-0.177231</td>\n",
       "    </tr>\n",
       "    <tr>\n",
       "      <th>50%</th>\n",
       "      <td>0.191013</td>\n",
       "      <td>0.191361</td>\n",
       "      <td>-0.361808</td>\n",
       "      <td>0.094510</td>\n",
       "    </tr>\n",
       "    <tr>\n",
       "      <th>75%</th>\n",
       "      <td>0.198730</td>\n",
       "      <td>0.571914</td>\n",
       "      <td>0.130973</td>\n",
       "      <td>0.447773</td>\n",
       "    </tr>\n",
       "    <tr>\n",
       "      <th>max</th>\n",
       "      <td>0.238858</td>\n",
       "      <td>1.079318</td>\n",
       "      <td>10.093664</td>\n",
       "      <td>1.643433</td>\n",
       "    </tr>\n",
       "  </tbody>\n",
       "</table>\n",
       "</div>"
      ],
      "text/plain": [
       "         Salinidad           TC    Clorofila          TSM\n",
       "count  6898.000000  6898.000000  6898.000000  6898.000000\n",
       "mean     -0.040169    -0.096785    -0.014185    -0.043937\n",
       "std       1.095034     1.052992     0.980216     1.081239\n",
       "min      -5.220127    -3.677595    -0.618748    -4.851172\n",
       "25%       0.181752    -0.506320    -0.618748    -0.177231\n",
       "50%       0.191013     0.191361    -0.361808     0.094510\n",
       "75%       0.198730     0.571914     0.130973     0.447773\n",
       "max       0.238858     1.079318    10.093664     1.643433"
      ]
     },
     "execution_count": 203,
     "metadata": {},
     "output_type": "execute_result"
    }
   ],
   "source": [
    "dfo = pd.DataFrame(one_distribution)\n",
    "dfo.columns = [\"Salinidad\",\"TC\", \"Clorofila\",\"TSM\"]\n",
    "dfo.describe()"
   ]
  },
  {
   "cell_type": "code",
   "execution_count": 204,
   "metadata": {},
   "outputs": [
    {
     "data": {
      "text/html": [
       "<div>\n",
       "<style scoped>\n",
       "    .dataframe tbody tr th:only-of-type {\n",
       "        vertical-align: middle;\n",
       "    }\n",
       "\n",
       "    .dataframe tbody tr th {\n",
       "        vertical-align: top;\n",
       "    }\n",
       "\n",
       "    .dataframe thead th {\n",
       "        text-align: right;\n",
       "    }\n",
       "</style>\n",
       "<table border=\"1\" class=\"dataframe\">\n",
       "  <thead>\n",
       "    <tr style=\"text-align: right;\">\n",
       "      <th></th>\n",
       "      <th>Salinidad</th>\n",
       "      <th>TC</th>\n",
       "      <th>Clorofila</th>\n",
       "      <th>TSM</th>\n",
       "    </tr>\n",
       "  </thead>\n",
       "  <tbody>\n",
       "    <tr>\n",
       "      <th>count</th>\n",
       "      <td>2628.000000</td>\n",
       "      <td>2628.000000</td>\n",
       "      <td>2628.000000</td>\n",
       "      <td>2628.000000</td>\n",
       "    </tr>\n",
       "    <tr>\n",
       "      <th>mean</th>\n",
       "      <td>0.105732</td>\n",
       "      <td>0.251601</td>\n",
       "      <td>0.028919</td>\n",
       "      <td>0.117393</td>\n",
       "    </tr>\n",
       "    <tr>\n",
       "      <th>std</th>\n",
       "      <td>0.678991</td>\n",
       "      <td>0.804940</td>\n",
       "      <td>1.028593</td>\n",
       "      <td>0.728411</td>\n",
       "    </tr>\n",
       "    <tr>\n",
       "      <th>min</th>\n",
       "      <td>-5.220127</td>\n",
       "      <td>-3.677595</td>\n",
       "      <td>-0.618748</td>\n",
       "      <td>-4.851172</td>\n",
       "    </tr>\n",
       "    <tr>\n",
       "      <th>25%</th>\n",
       "      <td>0.183296</td>\n",
       "      <td>0.064510</td>\n",
       "      <td>-0.480715</td>\n",
       "      <td>-0.122882</td>\n",
       "    </tr>\n",
       "    <tr>\n",
       "      <th>50%</th>\n",
       "      <td>0.191013</td>\n",
       "      <td>0.254786</td>\n",
       "      <td>-0.302651</td>\n",
       "      <td>0.176032</td>\n",
       "    </tr>\n",
       "    <tr>\n",
       "      <th>75%</th>\n",
       "      <td>0.200273</td>\n",
       "      <td>0.968323</td>\n",
       "      <td>0.130973</td>\n",
       "      <td>0.502121</td>\n",
       "    </tr>\n",
       "    <tr>\n",
       "      <th>max</th>\n",
       "      <td>0.240401</td>\n",
       "      <td>1.079318</td>\n",
       "      <td>10.470102</td>\n",
       "      <td>1.616258</td>\n",
       "    </tr>\n",
       "  </tbody>\n",
       "</table>\n",
       "</div>"
      ],
      "text/plain": [
       "         Salinidad           TC    Clorofila          TSM\n",
       "count  2628.000000  2628.000000  2628.000000  2628.000000\n",
       "mean      0.105732     0.251601     0.028919     0.117393\n",
       "std       0.678991     0.804940     1.028593     0.728411\n",
       "min      -5.220127    -3.677595    -0.618748    -4.851172\n",
       "25%       0.183296     0.064510    -0.480715    -0.122882\n",
       "50%       0.191013     0.254786    -0.302651     0.176032\n",
       "75%       0.200273     0.968323     0.130973     0.502121\n",
       "max       0.240401     1.079318    10.470102     1.616258"
      ]
     },
     "execution_count": 204,
     "metadata": {},
     "output_type": "execute_result"
    }
   ],
   "source": [
    "dfz = pd.DataFrame(zero_distribution)\n",
    "dfz.columns = [\"Salinidad\",\"TC\", \"Clorofila\",\"TSM\"]\n",
    "dfz.describe()"
   ]
  },
  {
   "cell_type": "markdown",
   "metadata": {},
   "source": [
    "## Normal"
   ]
  },
  {
   "cell_type": "code",
   "execution_count": 286,
   "metadata": {},
   "outputs": [
    {
     "name": "stdout",
     "output_type": "stream",
     "text": [
      "j: 0\n",
      "j: 1\n",
      "j: 2\n",
      "j: 3\n",
      "j: 4\n",
      "j: 5\n",
      "j: 6\n",
      "j: 7\n",
      "j: 8\n",
      "j: 9\n"
     ]
    }
   ],
   "source": [
    "import numpy as np\n",
    "\n",
    "df_results = pd.DataFrame(columns=['Params','IL_EucDistance','IL_Cosimilitud','DR_JS','DR_KS'])\n",
    "df_count = pd.DataFrame(columns=['One','Zero'])\n",
    "j = 0\n",
    "\n",
    "while (j < 10):\n",
    "    \n",
    "    #Salinidad', \"TC\", \"Clorofila\", \"TSM\n",
    "    Distillation_Salinidad = []\n",
    "    Distillation_TC = []\n",
    "    Distillation_Clorofila = []\n",
    "    Distillation_TSM = []\n",
    "    \n",
    "    print (\"j:\",j)\n",
    "    #class one\n",
    "    Distillation_Salinidad.extend(np.random.normal(-0.040169 , 1.095034, 6898)) #Salinidad\n",
    "    Distillation_TC.extend(np.random.normal(-0.096785 , 1.052992, 6898)) #TC\n",
    "    Distillation_Clorofila.extend(np.random.normal(-0.014185 , 0.980216, 6898)) #Clorofila\n",
    "    Distillation_TSM.extend(np.random.normal(-0.043937 , 1.081239, 6898)) #TSM\n",
    "\n",
    "    #class zero\n",
    "    Distillation_Salinidad.extend(np.random.normal( 0.105732, 0.678991, 2629)) #Salinidad\n",
    "    Distillation_TC.extend(np.random.normal( 0.251601 , 0.804940, 2629)) #TC\n",
    "    Distillation_Clorofila.extend(np.random.normal(0.028919  , 1.028593, 2629)) #Clorofila\n",
    "    Distillation_TSM.extend(np.random.normal( 0.117393 , 0.728411 , 2629)) #TSM\n",
    "\n",
    "    df_new = pd.DataFrame()\n",
    "    df_new[\"Distillation_Salinidad\"] = Distillation_Salinidad\n",
    "    df_new[\"Distillation_TC\"] = Distillation_TC\n",
    "    df_new[\"Distillation_Clorofila\"] = Distillation_Clorofila\n",
    "    df_new[\"Distillation_TSM\"] = Distillation_TSM\n",
    "\n",
    "    df_new[\"PescaBucketizedNoisy\"] = dec_tree.predict(df_new)\n",
    "\n",
    "    #print (df_new.PescaBucketizedNoisy.value_counts())\n",
    "\n",
    "    df_count = df_count.append({'One':int(df_new.PescaBucketizedNoisy.value_counts()[1]), 'Zero':int(df_new.PescaBucketizedNoisy.value_counts()[0])}, ignore_index=True)\n",
    "\n",
    "    df_new[\"SALI\"] = dataPesca[\"Salinidad\"]\n",
    "    df_new[\"TCL\"] = dataPesca[\"TC\"]\n",
    "    df_new[\"CLO\"] = dataPesca[\"Clorofila\"]\n",
    "    df_new[\"TSM\"] = dataPesca[\"TSM\"]\n",
    "\n",
    "    import math\n",
    "\n",
    "    # Get the Euclidean distance between vectors of real feature vs private vectors\n",
    "    df_new[\"SquaredDifference\"] = (df_new.Distillation_Salinidad - df_new.SALI)**2 + (df_new.Distillation_TC - df_new.TCL)**2 + (df_new.Distillation_Clorofila - df_new.CLO)**2 + (df_new.Distillation_TSM - df_new.TSM)**2\n",
    "    df_new['EuclideanDistance'] = np.sqrt(df_new[['SquaredDifference']].sum(axis=1))\n",
    "\n",
    "    # Cosimilitud\n",
    "    r = []\n",
    "    aux = 0\n",
    "    for i in range(df_new.shape[0]):\n",
    "        aux = spatial.distance.cosine(df_new.loc[i,[\"SALI\",\"TCL\",\"CLO\",\"TSM\"]], df_new.loc[i,[\"Distillation_Salinidad\",\"Distillation_TC\",\"Distillation_Clorofila\",\"Distillation_TSM\"]])\n",
    "        if (math.isnan(aux)):\n",
    "            aux = spatial.distance.cosine(df_new.loc[i,[\"SALI\",\"TCL\",\"CLO\",\"TSM\"]]+0.00000001, df_new.loc[i,[\"Distillation_Salinidad\",\"Distillation_TC\",\"Distillation_Clorofila\",\"Distillation_TSM\"]])\n",
    "            if (math.isnan(aux)):\n",
    "                aux = spatial.distance.cosine([0.00000001,0.00000001,0.00000001,0.00000001], df_new.loc[i,[\"Distillation_Salinidad\",\"Distillation_TC\",\"Distillation_Clorofila\",\"Distillation_TSM\"]])\n",
    "                #print (df_new.loc[i,[\"SALI\",\"TCL\",\"CLO\",\"TSM\"]]+0.00000001)\n",
    "                #print (df_new.loc[i,[\"Distillation_Salinidad\",\"Distillation_TC\",\"Distillation_Clorofila\",\"Distillation_TSM\"]])\n",
    "                #print (aux)\n",
    "        r.append(aux)\n",
    "\n",
    "    # IL_EucDistance:\n",
    "    IL_EucDistance = sum(df_new.EuclideanDistance)\n",
    "\n",
    "    # IL_Cosimilitud:\n",
    "    IL_Cosimilitud = sum(r)\n",
    "\n",
    "    # DR Jensen Shannon: (1 - sum(abs(P_{verdadera}-V_{calculada})))/n \n",
    "    DR_JS = (1 - distance.jensenshannon(Y, df_new.PescaBucketizedNoisy))\n",
    "\n",
    "    # DR Kolmogorov Smirnov\n",
    "    # DR1: (1 - sum(P_{verdadera}-V_{calculada}))/n \n",
    "    DR_KS = (1 - ks_2samp(Y, df_new.PescaBucketizedNoisy)[0])\n",
    "\n",
    "    # Resultados\n",
    "    d = {'Params':[\"Distillation\"],'IL_EucDistance': [IL_EucDistance], 'IL_Cosimilitud': [IL_Cosimilitud], 'DR_JS': [DR_JS], 'DR_KS':[DR_KS]}\n",
    "    d = pd.DataFrame(data=d)\n",
    "\n",
    "    df_results = df_results.append(d, ignore_index=True, sort=False)\n",
    "    j += 1"
   ]
  },
  {
   "cell_type": "code",
   "execution_count": 289,
   "metadata": {},
   "outputs": [
    {
     "data": {
      "text/html": [
       "<div>\n",
       "<style scoped>\n",
       "    .dataframe tbody tr th:only-of-type {\n",
       "        vertical-align: middle;\n",
       "    }\n",
       "\n",
       "    .dataframe tbody tr th {\n",
       "        vertical-align: top;\n",
       "    }\n",
       "\n",
       "    .dataframe thead th {\n",
       "        text-align: right;\n",
       "    }\n",
       "</style>\n",
       "<table border=\"1\" class=\"dataframe\">\n",
       "  <thead>\n",
       "    <tr style=\"text-align: right;\">\n",
       "      <th></th>\n",
       "      <th>One</th>\n",
       "      <th>Zero</th>\n",
       "    </tr>\n",
       "  </thead>\n",
       "  <tbody>\n",
       "    <tr>\n",
       "      <th>count</th>\n",
       "      <td>10</td>\n",
       "      <td>10</td>\n",
       "    </tr>\n",
       "    <tr>\n",
       "      <th>unique</th>\n",
       "      <td>10</td>\n",
       "      <td>10</td>\n",
       "    </tr>\n",
       "    <tr>\n",
       "      <th>top</th>\n",
       "      <td>8751</td>\n",
       "      <td>815</td>\n",
       "    </tr>\n",
       "    <tr>\n",
       "      <th>freq</th>\n",
       "      <td>1</td>\n",
       "      <td>1</td>\n",
       "    </tr>\n",
       "  </tbody>\n",
       "</table>\n",
       "</div>"
      ],
      "text/plain": [
       "         One  Zero\n",
       "count     10    10\n",
       "unique    10    10\n",
       "top     8751   815\n",
       "freq       1     1"
      ]
     },
     "execution_count": 289,
     "metadata": {},
     "output_type": "execute_result"
    }
   ],
   "source": [
    "df_count.describe()"
   ]
  },
  {
   "cell_type": "code",
   "execution_count": 288,
   "metadata": {},
   "outputs": [
    {
     "data": {
      "text/html": [
       "<div>\n",
       "<style scoped>\n",
       "    .dataframe tbody tr th:only-of-type {\n",
       "        vertical-align: middle;\n",
       "    }\n",
       "\n",
       "    .dataframe tbody tr th {\n",
       "        vertical-align: top;\n",
       "    }\n",
       "\n",
       "    .dataframe thead th {\n",
       "        text-align: right;\n",
       "    }\n",
       "</style>\n",
       "<table border=\"1\" class=\"dataframe\">\n",
       "  <thead>\n",
       "    <tr style=\"text-align: right;\">\n",
       "      <th></th>\n",
       "      <th>IL_EucDistance</th>\n",
       "      <th>IL_Cosimilitud</th>\n",
       "      <th>DR_JS</th>\n",
       "      <th>DR_KS</th>\n",
       "    </tr>\n",
       "  </thead>\n",
       "  <tbody>\n",
       "    <tr>\n",
       "      <th>count</th>\n",
       "      <td>10.000000</td>\n",
       "      <td>10.000000</td>\n",
       "      <td>10.000000</td>\n",
       "      <td>10.000000</td>\n",
       "    </tr>\n",
       "    <tr>\n",
       "      <th>mean</th>\n",
       "      <td>667415.666317</td>\n",
       "      <td>9424.053900</td>\n",
       "      <td>0.638612</td>\n",
       "      <td>0.809793</td>\n",
       "    </tr>\n",
       "    <tr>\n",
       "      <th>std</th>\n",
       "      <td>72.009082</td>\n",
       "      <td>39.998243</td>\n",
       "      <td>0.002314</td>\n",
       "      <td>0.002796</td>\n",
       "    </tr>\n",
       "    <tr>\n",
       "      <th>min</th>\n",
       "      <td>667299.731514</td>\n",
       "      <td>9346.079306</td>\n",
       "      <td>0.636307</td>\n",
       "      <td>0.805500</td>\n",
       "    </tr>\n",
       "    <tr>\n",
       "      <th>25%</th>\n",
       "      <td>667384.272277</td>\n",
       "      <td>9401.868565</td>\n",
       "      <td>0.636791</td>\n",
       "      <td>0.808623</td>\n",
       "    </tr>\n",
       "    <tr>\n",
       "      <th>50%</th>\n",
       "      <td>667412.207468</td>\n",
       "      <td>9421.905254</td>\n",
       "      <td>0.637964</td>\n",
       "      <td>0.809541</td>\n",
       "    </tr>\n",
       "    <tr>\n",
       "      <th>75%</th>\n",
       "      <td>667473.311148</td>\n",
       "      <td>9462.677674</td>\n",
       "      <td>0.640357</td>\n",
       "      <td>0.811168</td>\n",
       "    </tr>\n",
       "    <tr>\n",
       "      <th>max</th>\n",
       "      <td>667509.741515</td>\n",
       "      <td>9467.555903</td>\n",
       "      <td>0.642955</td>\n",
       "      <td>0.814212</td>\n",
       "    </tr>\n",
       "  </tbody>\n",
       "</table>\n",
       "</div>"
      ],
      "text/plain": [
       "       IL_EucDistance  IL_Cosimilitud      DR_JS      DR_KS\n",
       "count       10.000000       10.000000  10.000000  10.000000\n",
       "mean    667415.666317     9424.053900   0.638612   0.809793\n",
       "std         72.009082       39.998243   0.002314   0.002796\n",
       "min     667299.731514     9346.079306   0.636307   0.805500\n",
       "25%     667384.272277     9401.868565   0.636791   0.808623\n",
       "50%     667412.207468     9421.905254   0.637964   0.809541\n",
       "75%     667473.311148     9462.677674   0.640357   0.811168\n",
       "max     667509.741515     9467.555903   0.642955   0.814212"
      ]
     },
     "execution_count": 288,
     "metadata": {},
     "output_type": "execute_result"
    }
   ],
   "source": [
    "df_results.describe()"
   ]
  },
  {
   "cell_type": "code",
   "execution_count": 291,
   "metadata": {},
   "outputs": [],
   "source": [
    "df_results.to_csv(r'normal_gini.csv', index = False)\n",
    "df_count.to_csv(r'normal_gini_count.csv', index = False)\n"
   ]
  },
  {
   "cell_type": "markdown",
   "metadata": {},
   "source": [
    "## Uniform"
   ]
  },
  {
   "cell_type": "code",
   "execution_count": 292,
   "metadata": {},
   "outputs": [
    {
     "name": "stdout",
     "output_type": "stream",
     "text": [
      "j: 0\n",
      "j: 1\n",
      "j: 2\n",
      "j: 3\n",
      "j: 4\n",
      "j: 5\n",
      "j: 6\n",
      "j: 7\n",
      "j: 8\n",
      "j: 9\n"
     ]
    }
   ],
   "source": [
    "import numpy as np\n",
    "\n",
    "df_results = pd.DataFrame(columns=['Params','IL_EucDistance','IL_Cosimilitud','DR_JS','DR_KS'])\n",
    "df_count = pd.DataFrame(columns=['One','Zero'])\n",
    "j = 0\n",
    "\n",
    "while (j < 10):\n",
    "    \n",
    "    #Salinidad', \"TC\", \"Clorofila\", \"TSM\n",
    "    Distillation_Salinidad = []\n",
    "    Distillation_TC = []\n",
    "    Distillation_Clorofila = []\n",
    "    Distillation_TSM = []\n",
    "    \n",
    "    print (\"j:\",j)\n",
    "    #class one\n",
    "    Distillation_Salinidad.extend(np.random.uniform(-5.220127 , 0.238858, 6898)) #Salinidad\n",
    "    Distillation_TC.extend(np.random.uniform(-3.677595 , 1.079318, 6898)) #TC\n",
    "    Distillation_Clorofila.extend(np.random.uniform(-0.618748 , 10.093664, 6898)) #Clorofila\n",
    "    Distillation_TSM.extend(np.random.uniform(-4.851172 , 1.643433, 6898)) #TSM\n",
    "\n",
    "    #class zero\n",
    "    Distillation_Salinidad.extend(np.random.uniform(-5.220127 , 0.240401, 2629)) #Salinidad\n",
    "    Distillation_TC.extend(np.random.uniform(-3.677595 , 1.079318, 2629)) #TC\n",
    "    Distillation_Clorofila.extend(np.random.uniform(-0.618748 , 10.470102, 2629)) #Clorofila\n",
    "    Distillation_TSM.extend(np.random.uniform(-4.851172 , 1.616258, 2629)) #TSM\n",
    "\n",
    "    df_new = pd.DataFrame()\n",
    "    df_new[\"Distillation_Salinidad\"] = Distillation_Salinidad\n",
    "    df_new[\"Distillation_TC\"] = Distillation_TC\n",
    "    df_new[\"Distillation_Clorofila\"] = Distillation_Clorofila\n",
    "    df_new[\"Distillation_TSM\"] = Distillation_TSM\n",
    "\n",
    "    df_new[\"PescaBucketizedNoisy\"] = dec_tree.predict(df_new)\n",
    "\n",
    "    #print (df_new.PescaBucketizedNoisy.value_counts())\n",
    "\n",
    "    df_count = df_count.append({'One':int(df_new.PescaBucketizedNoisy.value_counts()[1]), 'Zero':int(df_new.PescaBucketizedNoisy.value_counts()[0])}, ignore_index=True)\n",
    "\n",
    "    df_new[\"SALI\"] = dataPesca[\"Salinidad\"]\n",
    "    df_new[\"TCL\"] = dataPesca[\"TC\"]\n",
    "    df_new[\"CLO\"] = dataPesca[\"Clorofila\"]\n",
    "    df_new[\"TSM\"] = dataPesca[\"TSM\"]\n",
    "\n",
    "    import math\n",
    "\n",
    "    # Get the Euclidean distance between vectors of real feature vs private vectors\n",
    "    df_new[\"SquaredDifference\"] = (df_new.Distillation_Salinidad - df_new.SALI)**2 + (df_new.Distillation_TC - df_new.TCL)**2 + (df_new.Distillation_Clorofila - df_new.CLO)**2 + (df_new.Distillation_TSM - df_new.TSM)**2\n",
    "    df_new['EuclideanDistance'] = np.sqrt(df_new[['SquaredDifference']].sum(axis=1))\n",
    "\n",
    "    # Cosimilitud\n",
    "    r = []\n",
    "    aux = 0\n",
    "    for i in range(df_new.shape[0]):\n",
    "        aux = spatial.distance.cosine(df_new.loc[i,[\"SALI\",\"TCL\",\"CLO\",\"TSM\"]], df_new.loc[i,[\"Distillation_Salinidad\",\"Distillation_TC\",\"Distillation_Clorofila\",\"Distillation_TSM\"]])\n",
    "        if (math.isnan(aux)):\n",
    "            aux = spatial.distance.cosine(df_new.loc[i,[\"SALI\",\"TCL\",\"CLO\",\"TSM\"]]+0.00000001, df_new.loc[i,[\"Distillation_Salinidad\",\"Distillation_TC\",\"Distillation_Clorofila\",\"Distillation_TSM\"]])\n",
    "            if (math.isnan(aux)):\n",
    "                aux = spatial.distance.cosine([0.00000001,0.00000001,0.00000001,0.00000001], df_new.loc[i,[\"Distillation_Salinidad\",\"Distillation_TC\",\"Distillation_Clorofila\",\"Distillation_TSM\"]])\n",
    "                #print (df_new.loc[i,[\"SALI\",\"TCL\",\"CLO\",\"TSM\"]]+0.00000001)\n",
    "                #print (df_new.loc[i,[\"Distillation_Salinidad\",\"Distillation_TC\",\"Distillation_Clorofila\",\"Distillation_TSM\"]])\n",
    "                #print (aux)\n",
    "        r.append(aux)\n",
    "\n",
    "    # IL_EucDistance:\n",
    "    IL_EucDistance = sum(df_new.EuclideanDistance)\n",
    "\n",
    "    # IL_Cosimilitud:\n",
    "    IL_Cosimilitud = sum(r)\n",
    "\n",
    "    # DR Jensen Shannon: (1 - sum(abs(P_{verdadera}-V_{calculada})))/n \n",
    "    DR_JS = (1 - distance.jensenshannon(Y, df_new.PescaBucketizedNoisy))\n",
    "\n",
    "    # DR Kolmogorov Smirnov\n",
    "    # DR1: (1 - sum(P_{verdadera}-V_{calculada}))/n \n",
    "    DR_KS = (1 - ks_2samp(Y, df_new.PescaBucketizedNoisy)[0])\n",
    "\n",
    "    # Resultados\n",
    "    d = {'Params':[\"Distillation\"],'IL_EucDistance': [IL_EucDistance], 'IL_Cosimilitud': [IL_Cosimilitud], 'DR_JS': [DR_JS], 'DR_KS':[DR_KS]}\n",
    "    d = pd.DataFrame(data=d)\n",
    "\n",
    "    df_results = df_results.append(d, ignore_index=True, sort=False)\n",
    "    j += 1"
   ]
  },
  {
   "cell_type": "code",
   "execution_count": 293,
   "metadata": {},
   "outputs": [],
   "source": [
    "df_results.to_csv(r'uniform_gini.csv', index = False)\n",
    "df_count.to_csv(r'uniform_gini_count.csv', index = False)\n"
   ]
  },
  {
   "cell_type": "code",
   "execution_count": 294,
   "metadata": {},
   "outputs": [
    {
     "data": {
      "text/html": [
       "<div>\n",
       "<style scoped>\n",
       "    .dataframe tbody tr th:only-of-type {\n",
       "        vertical-align: middle;\n",
       "    }\n",
       "\n",
       "    .dataframe tbody tr th {\n",
       "        vertical-align: top;\n",
       "    }\n",
       "\n",
       "    .dataframe thead th {\n",
       "        text-align: right;\n",
       "    }\n",
       "</style>\n",
       "<table border=\"1\" class=\"dataframe\">\n",
       "  <thead>\n",
       "    <tr style=\"text-align: right;\">\n",
       "      <th></th>\n",
       "      <th>Params</th>\n",
       "      <th>IL_EucDistance</th>\n",
       "      <th>IL_Cosimilitud</th>\n",
       "      <th>DR_JS</th>\n",
       "      <th>DR_KS</th>\n",
       "    </tr>\n",
       "  </thead>\n",
       "  <tbody>\n",
       "    <tr>\n",
       "      <th>0</th>\n",
       "      <td>Distillation</td>\n",
       "      <td>694749.704119</td>\n",
       "      <td>13291.121611</td>\n",
       "      <td>0.666995</td>\n",
       "      <td>0.738743</td>\n",
       "    </tr>\n",
       "    <tr>\n",
       "      <th>1</th>\n",
       "      <td>Distillation</td>\n",
       "      <td>694400.696853</td>\n",
       "      <td>13240.463828</td>\n",
       "      <td>0.666931</td>\n",
       "      <td>0.741052</td>\n",
       "    </tr>\n",
       "    <tr>\n",
       "      <th>2</th>\n",
       "      <td>Distillation</td>\n",
       "      <td>694614.329946</td>\n",
       "      <td>13266.947582</td>\n",
       "      <td>0.666247</td>\n",
       "      <td>0.740422</td>\n",
       "    </tr>\n",
       "    <tr>\n",
       "      <th>3</th>\n",
       "      <td>Distillation</td>\n",
       "      <td>694276.786481</td>\n",
       "      <td>13249.673618</td>\n",
       "      <td>0.666580</td>\n",
       "      <td>0.738952</td>\n",
       "    </tr>\n",
       "    <tr>\n",
       "      <th>4</th>\n",
       "      <td>Distillation</td>\n",
       "      <td>694659.808371</td>\n",
       "      <td>13233.086162</td>\n",
       "      <td>0.667646</td>\n",
       "      <td>0.741472</td>\n",
       "    </tr>\n",
       "    <tr>\n",
       "      <th>5</th>\n",
       "      <td>Distillation</td>\n",
       "      <td>694359.829226</td>\n",
       "      <td>13225.866749</td>\n",
       "      <td>0.665043</td>\n",
       "      <td>0.740317</td>\n",
       "    </tr>\n",
       "    <tr>\n",
       "      <th>6</th>\n",
       "      <td>Distillation</td>\n",
       "      <td>694357.944009</td>\n",
       "      <td>13256.639353</td>\n",
       "      <td>0.666732</td>\n",
       "      <td>0.740632</td>\n",
       "    </tr>\n",
       "    <tr>\n",
       "      <th>7</th>\n",
       "      <td>Distillation</td>\n",
       "      <td>694506.358942</td>\n",
       "      <td>13221.305247</td>\n",
       "      <td>0.666890</td>\n",
       "      <td>0.740422</td>\n",
       "    </tr>\n",
       "    <tr>\n",
       "      <th>8</th>\n",
       "      <td>Distillation</td>\n",
       "      <td>694746.839140</td>\n",
       "      <td>13319.539684</td>\n",
       "      <td>0.667065</td>\n",
       "      <td>0.739162</td>\n",
       "    </tr>\n",
       "    <tr>\n",
       "      <th>9</th>\n",
       "      <td>Distillation</td>\n",
       "      <td>694367.075400</td>\n",
       "      <td>13256.385535</td>\n",
       "      <td>0.666171</td>\n",
       "      <td>0.741891</td>\n",
       "    </tr>\n",
       "  </tbody>\n",
       "</table>\n",
       "</div>"
      ],
      "text/plain": [
       "         Params  IL_EucDistance  IL_Cosimilitud     DR_JS     DR_KS\n",
       "0  Distillation   694749.704119    13291.121611  0.666995  0.738743\n",
       "1  Distillation   694400.696853    13240.463828  0.666931  0.741052\n",
       "2  Distillation   694614.329946    13266.947582  0.666247  0.740422\n",
       "3  Distillation   694276.786481    13249.673618  0.666580  0.738952\n",
       "4  Distillation   694659.808371    13233.086162  0.667646  0.741472\n",
       "5  Distillation   694359.829226    13225.866749  0.665043  0.740317\n",
       "6  Distillation   694357.944009    13256.639353  0.666732  0.740632\n",
       "7  Distillation   694506.358942    13221.305247  0.666890  0.740422\n",
       "8  Distillation   694746.839140    13319.539684  0.667065  0.739162\n",
       "9  Distillation   694367.075400    13256.385535  0.666171  0.741891"
      ]
     },
     "execution_count": 294,
     "metadata": {},
     "output_type": "execute_result"
    }
   ],
   "source": [
    "df_results"
   ]
  },
  {
   "cell_type": "code",
   "execution_count": null,
   "metadata": {},
   "outputs": [],
   "source": []
  }
 ],
 "metadata": {
  "kernelspec": {
   "display_name": "Python 3",
   "language": "python",
   "name": "python3"
  },
  "language_info": {
   "codemirror_mode": {
    "name": "ipython",
    "version": 3
   },
   "file_extension": ".py",
   "mimetype": "text/x-python",
   "name": "python",
   "nbconvert_exporter": "python",
   "pygments_lexer": "ipython3",
   "version": "3.7.6"
  }
 },
 "nbformat": 4,
 "nbformat_minor": 2
}
